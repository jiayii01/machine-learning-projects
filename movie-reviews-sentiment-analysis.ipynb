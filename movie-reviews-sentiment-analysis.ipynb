{
 "cells": [
  {
   "cell_type": "code",
   "execution_count": 1,
   "id": "3bab0d65",
   "metadata": {
    "execution": {
     "iopub.execute_input": "2023-02-03T03:15:03.952945Z",
     "iopub.status.busy": "2023-02-03T03:15:03.952237Z",
     "iopub.status.idle": "2023-02-03T03:15:06.081636Z",
     "shell.execute_reply": "2023-02-03T03:15:06.080145Z"
    },
    "papermill": {
     "duration": 2.144392,
     "end_time": "2023-02-03T03:15:06.084952",
     "exception": false,
     "start_time": "2023-02-03T03:15:03.940560",
     "status": "completed"
    },
    "tags": []
   },
   "outputs": [],
   "source": [
    "import numpy as np \n",
    "import pandas as pd\n",
    "import re \n",
    "import nltk\n",
    "import matplotlib.pyplot as plt\n",
    "from nltk.corpus import stopwords\n",
    "from nltk.tokenize.toktok import ToktokTokenizer\n",
    "from nltk.stem.porter import *\n",
    "from nltk.stem import SnowballStemmer\n",
    "from sklearn.feature_extraction.text import CountVectorizer, TfidfVectorizer\n",
    "from bs4 import BeautifulSoup\n",
    "from sklearn.linear_model import LogisticRegression, SGDClassifier\n",
    "from sklearn.model_selection import train_test_split\n",
    "from sklearn.metrics import accuracy_score, classification_report\n",
    "from wordcloud import WordCloud, STOPWORDS\n",
    "import pickle"
   ]
  },
  {
   "cell_type": "code",
   "execution_count": 2,
   "id": "ff0add85",
   "metadata": {
    "execution": {
     "iopub.execute_input": "2023-02-03T03:15:06.100504Z",
     "iopub.status.busy": "2023-02-03T03:15:06.099272Z",
     "iopub.status.idle": "2023-02-03T03:15:07.768932Z",
     "shell.execute_reply": "2023-02-03T03:15:07.767588Z"
    },
    "papermill": {
     "duration": 1.681079,
     "end_time": "2023-02-03T03:15:07.772673",
     "exception": false,
     "start_time": "2023-02-03T03:15:06.091594",
     "status": "completed"
    },
    "tags": []
   },
   "outputs": [],
   "source": [
    "df = pd.read_csv(\"/kaggle/input/imdb-dataset/IMDB Dataset.csv\")"
   ]
  },
  {
   "cell_type": "code",
   "execution_count": 3,
   "id": "611ff745",
   "metadata": {
    "execution": {
     "iopub.execute_input": "2023-02-03T03:15:07.788309Z",
     "iopub.status.busy": "2023-02-03T03:15:07.787330Z",
     "iopub.status.idle": "2023-02-03T03:15:07.810859Z",
     "shell.execute_reply": "2023-02-03T03:15:07.809152Z"
    },
    "papermill": {
     "duration": 0.03435,
     "end_time": "2023-02-03T03:15:07.813800",
     "exception": false,
     "start_time": "2023-02-03T03:15:07.779450",
     "status": "completed"
    },
    "tags": []
   },
   "outputs": [
    {
     "data": {
      "text/html": [
       "<div>\n",
       "<style scoped>\n",
       "    .dataframe tbody tr th:only-of-type {\n",
       "        vertical-align: middle;\n",
       "    }\n",
       "\n",
       "    .dataframe tbody tr th {\n",
       "        vertical-align: top;\n",
       "    }\n",
       "\n",
       "    .dataframe thead th {\n",
       "        text-align: right;\n",
       "    }\n",
       "</style>\n",
       "<table border=\"1\" class=\"dataframe\">\n",
       "  <thead>\n",
       "    <tr style=\"text-align: right;\">\n",
       "      <th></th>\n",
       "      <th>review</th>\n",
       "      <th>sentiment</th>\n",
       "    </tr>\n",
       "  </thead>\n",
       "  <tbody>\n",
       "    <tr>\n",
       "      <th>0</th>\n",
       "      <td>One of the other reviewers has mentioned that ...</td>\n",
       "      <td>positive</td>\n",
       "    </tr>\n",
       "    <tr>\n",
       "      <th>1</th>\n",
       "      <td>A wonderful little production. &lt;br /&gt;&lt;br /&gt;The...</td>\n",
       "      <td>positive</td>\n",
       "    </tr>\n",
       "    <tr>\n",
       "      <th>2</th>\n",
       "      <td>I thought this was a wonderful way to spend ti...</td>\n",
       "      <td>positive</td>\n",
       "    </tr>\n",
       "  </tbody>\n",
       "</table>\n",
       "</div>"
      ],
      "text/plain": [
       "                                              review sentiment\n",
       "0  One of the other reviewers has mentioned that ...  positive\n",
       "1  A wonderful little production. <br /><br />The...  positive\n",
       "2  I thought this was a wonderful way to spend ti...  positive"
      ]
     },
     "execution_count": 3,
     "metadata": {},
     "output_type": "execute_result"
    }
   ],
   "source": [
    "df.head(3)"
   ]
  },
  {
   "cell_type": "markdown",
   "id": "29b0eda8",
   "metadata": {
    "papermill": {
     "duration": 0.005766,
     "end_time": "2023-02-03T03:15:07.826083",
     "exception": false,
     "start_time": "2023-02-03T03:15:07.820317",
     "status": "completed"
    },
    "tags": []
   },
   "source": [
    "#### seeing if dataset is balanced"
   ]
  },
  {
   "cell_type": "code",
   "execution_count": 4,
   "id": "92cf646c",
   "metadata": {
    "execution": {
     "iopub.execute_input": "2023-02-03T03:15:07.840079Z",
     "iopub.status.busy": "2023-02-03T03:15:07.839707Z",
     "iopub.status.idle": "2023-02-03T03:15:07.875275Z",
     "shell.execute_reply": "2023-02-03T03:15:07.873927Z"
    },
    "papermill": {
     "duration": 0.045884,
     "end_time": "2023-02-03T03:15:07.878115",
     "exception": false,
     "start_time": "2023-02-03T03:15:07.832231",
     "status": "completed"
    },
    "tags": []
   },
   "outputs": [
    {
     "data": {
      "text/html": [
       "<div>\n",
       "<style scoped>\n",
       "    .dataframe tbody tr th:only-of-type {\n",
       "        vertical-align: middle;\n",
       "    }\n",
       "\n",
       "    .dataframe tbody tr th {\n",
       "        vertical-align: top;\n",
       "    }\n",
       "\n",
       "    .dataframe thead th {\n",
       "        text-align: right;\n",
       "    }\n",
       "</style>\n",
       "<table border=\"1\" class=\"dataframe\">\n",
       "  <thead>\n",
       "    <tr style=\"text-align: right;\">\n",
       "      <th></th>\n",
       "      <th>review</th>\n",
       "    </tr>\n",
       "    <tr>\n",
       "      <th>sentiment</th>\n",
       "      <th></th>\n",
       "    </tr>\n",
       "  </thead>\n",
       "  <tbody>\n",
       "    <tr>\n",
       "      <th>negative</th>\n",
       "      <td>25000</td>\n",
       "    </tr>\n",
       "    <tr>\n",
       "      <th>positive</th>\n",
       "      <td>25000</td>\n",
       "    </tr>\n",
       "  </tbody>\n",
       "</table>\n",
       "</div>"
      ],
      "text/plain": [
       "           review\n",
       "sentiment        \n",
       "negative    25000\n",
       "positive    25000"
      ]
     },
     "execution_count": 4,
     "metadata": {},
     "output_type": "execute_result"
    }
   ],
   "source": [
    "df.groupby(\"sentiment\").count()"
   ]
  },
  {
   "cell_type": "markdown",
   "id": "c39475d9",
   "metadata": {
    "papermill": {
     "duration": 0.006482,
     "end_time": "2023-02-03T03:15:07.891313",
     "exception": false,
     "start_time": "2023-02-03T03:15:07.884831",
     "status": "completed"
    },
    "tags": []
   },
   "source": [
    "#### encoding sentiment values"
   ]
  },
  {
   "cell_type": "code",
   "execution_count": 5,
   "id": "9fd5635c",
   "metadata": {
    "execution": {
     "iopub.execute_input": "2023-02-03T03:15:07.906483Z",
     "iopub.status.busy": "2023-02-03T03:15:07.905931Z",
     "iopub.status.idle": "2023-02-03T03:15:07.944829Z",
     "shell.execute_reply": "2023-02-03T03:15:07.943515Z"
    },
    "papermill": {
     "duration": 0.049776,
     "end_time": "2023-02-03T03:15:07.947778",
     "exception": false,
     "start_time": "2023-02-03T03:15:07.898002",
     "status": "completed"
    },
    "tags": []
   },
   "outputs": [
    {
     "data": {
      "text/html": [
       "<div>\n",
       "<style scoped>\n",
       "    .dataframe tbody tr th:only-of-type {\n",
       "        vertical-align: middle;\n",
       "    }\n",
       "\n",
       "    .dataframe tbody tr th {\n",
       "        vertical-align: top;\n",
       "    }\n",
       "\n",
       "    .dataframe thead th {\n",
       "        text-align: right;\n",
       "    }\n",
       "</style>\n",
       "<table border=\"1\" class=\"dataframe\">\n",
       "  <thead>\n",
       "    <tr style=\"text-align: right;\">\n",
       "      <th></th>\n",
       "      <th>review</th>\n",
       "      <th>sentiment</th>\n",
       "      <th>sentiment_encoding</th>\n",
       "    </tr>\n",
       "  </thead>\n",
       "  <tbody>\n",
       "    <tr>\n",
       "      <th>0</th>\n",
       "      <td>One of the other reviewers has mentioned that ...</td>\n",
       "      <td>positive</td>\n",
       "      <td>1</td>\n",
       "    </tr>\n",
       "    <tr>\n",
       "      <th>1</th>\n",
       "      <td>A wonderful little production. &lt;br /&gt;&lt;br /&gt;The...</td>\n",
       "      <td>positive</td>\n",
       "      <td>1</td>\n",
       "    </tr>\n",
       "    <tr>\n",
       "      <th>2</th>\n",
       "      <td>I thought this was a wonderful way to spend ti...</td>\n",
       "      <td>positive</td>\n",
       "      <td>1</td>\n",
       "    </tr>\n",
       "  </tbody>\n",
       "</table>\n",
       "</div>"
      ],
      "text/plain": [
       "                                              review sentiment  \\\n",
       "0  One of the other reviewers has mentioned that ...  positive   \n",
       "1  A wonderful little production. <br /><br />The...  positive   \n",
       "2  I thought this was a wonderful way to spend ti...  positive   \n",
       "\n",
       "   sentiment_encoding  \n",
       "0                   1  \n",
       "1                   1  \n",
       "2                   1  "
      ]
     },
     "execution_count": 5,
     "metadata": {},
     "output_type": "execute_result"
    }
   ],
   "source": [
    "df[\"sentiment_encoding\"] = df[\"sentiment\"].apply(lambda x: 1 if x==\"positive\" else 0)\n",
    "df.head(3)"
   ]
  },
  {
   "cell_type": "markdown",
   "id": "93137e37",
   "metadata": {
    "papermill": {
     "duration": 0.006516,
     "end_time": "2023-02-03T03:15:07.961353",
     "exception": false,
     "start_time": "2023-02-03T03:15:07.954837",
     "status": "completed"
    },
    "tags": []
   },
   "source": [
    "#### splitting dataset"
   ]
  },
  {
   "cell_type": "code",
   "execution_count": 6,
   "id": "3ebae793",
   "metadata": {
    "execution": {
     "iopub.execute_input": "2023-02-03T03:15:07.977213Z",
     "iopub.status.busy": "2023-02-03T03:15:07.976766Z",
     "iopub.status.idle": "2023-02-03T03:15:08.006888Z",
     "shell.execute_reply": "2023-02-03T03:15:08.005213Z"
    },
    "papermill": {
     "duration": 0.041946,
     "end_time": "2023-02-03T03:15:08.009752",
     "exception": false,
     "start_time": "2023-02-03T03:15:07.967806",
     "status": "completed"
    },
    "tags": []
   },
   "outputs": [
    {
     "name": "stdout",
     "output_type": "stream",
     "text": [
      "(40000,) (40000,)\n",
      "(10000,) (10000,)\n"
     ]
    }
   ],
   "source": [
    "train_dataset = df.sample(frac=0.8,random_state=0)\n",
    "test_dataset = df.drop(train_dataset.index)\n",
    "\n",
    "train_reviews = train_dataset.review\n",
    "train_sentis = train_dataset.sentiment_encoding\n",
    "\n",
    "test_reviews = test_dataset.review\n",
    "test_sentis = test_dataset.sentiment_encoding\n",
    "\n",
    "print(train_reviews.shape, train_sentis.shape)\n",
    "print(test_reviews.shape, test_sentis.shape)"
   ]
  },
  {
   "cell_type": "markdown",
   "id": "70ccb014",
   "metadata": {
    "execution": {
     "iopub.execute_input": "2023-02-02T13:52:47.032155Z",
     "iopub.status.busy": "2023-02-02T13:52:47.031733Z",
     "iopub.status.idle": "2023-02-02T13:52:47.037876Z",
     "shell.execute_reply": "2023-02-02T13:52:47.036547Z",
     "shell.execute_reply.started": "2023-02-02T13:52:47.032118Z"
    },
    "papermill": {
     "duration": 0.007162,
     "end_time": "2023-02-03T03:15:08.024149",
     "exception": false,
     "start_time": "2023-02-03T03:15:08.016987",
     "status": "completed"
    },
    "tags": []
   },
   "source": [
    "#### text preprocessing"
   ]
  },
  {
   "cell_type": "code",
   "execution_count": 7,
   "id": "54d55844",
   "metadata": {
    "execution": {
     "iopub.execute_input": "2023-02-03T03:15:08.040726Z",
     "iopub.status.busy": "2023-02-03T03:15:08.039314Z",
     "iopub.status.idle": "2023-02-03T03:15:19.133641Z",
     "shell.execute_reply": "2023-02-03T03:15:19.132450Z"
    },
    "papermill": {
     "duration": 11.105882,
     "end_time": "2023-02-03T03:15:19.136808",
     "exception": false,
     "start_time": "2023-02-03T03:15:08.030926",
     "status": "completed"
    },
    "tags": []
   },
   "outputs": [
    {
     "name": "stderr",
     "output_type": "stream",
     "text": [
      "/opt/conda/lib/python3.7/site-packages/bs4/__init__.py:439: MarkupResemblesLocatorWarning: The input looks more like a filename than markup. You may want to open this file and pass the filehandle into Beautiful Soup.\n",
      "  MarkupResemblesLocatorWarning\n"
     ]
    }
   ],
   "source": [
    "tokenizer = ToktokTokenizer()\n",
    "\n",
    "# remove html strips\n",
    "def strip_html(text):\n",
    "    soup = BeautifulSoup(text, \"html.parser\")\n",
    "    return soup.get_text()\n",
    "\n",
    "# keep only alphabetic words\n",
    "def alpha_text(text):\n",
    "    return re.sub('^[a-z]+$', '', text)\n",
    "\n",
    "def clean_words(text):\n",
    "    text = alpha_text(strip_html(text))\n",
    "    return text\n",
    "\n",
    "df[\"review\"] = df[\"review\"].apply(clean_words)"
   ]
  },
  {
   "cell_type": "markdown",
   "id": "add12f89",
   "metadata": {
    "papermill": {
     "duration": 0.006634,
     "end_time": "2023-02-03T03:15:19.150658",
     "exception": false,
     "start_time": "2023-02-03T03:15:19.144024",
     "status": "completed"
    },
    "tags": []
   },
   "source": [
    "### removing stopwords, stemming"
   ]
  },
  {
   "cell_type": "code",
   "execution_count": 8,
   "id": "ca37045c",
   "metadata": {
    "execution": {
     "iopub.execute_input": "2023-02-03T03:15:19.166487Z",
     "iopub.status.busy": "2023-02-03T03:15:19.166047Z",
     "iopub.status.idle": "2023-02-03T03:16:09.702727Z",
     "shell.execute_reply": "2023-02-03T03:16:09.701334Z"
    },
    "papermill": {
     "duration": 50.548094,
     "end_time": "2023-02-03T03:16:09.705752",
     "exception": false,
     "start_time": "2023-02-03T03:15:19.157658",
     "status": "completed"
    },
    "tags": []
   },
   "outputs": [],
   "source": [
    "stop_list = stopwords.words(\"english\")\n",
    "\n",
    "def remove_stopwords(text, is_lower_case=False):\n",
    "    tokens = tokenizer.tokenize(text)\n",
    "    tokens = [token.strip() for token in tokens]\n",
    "    if is_lower_case:\n",
    "        filtered_tokens = [token for token in tokens if token not in stop_list]\n",
    "    else:\n",
    "        filtered_tokens = [token for token in tokens if token.lower() not in stop_list]\n",
    "    filtered_text = ' '.join(filtered_tokens)    \n",
    "    return filtered_text\n",
    "\n",
    "df[\"review\"] = df[\"review\"].apply(remove_stopwords)"
   ]
  },
  {
   "cell_type": "code",
   "execution_count": 9,
   "id": "dd24b6ea",
   "metadata": {
    "execution": {
     "iopub.execute_input": "2023-02-03T03:16:09.722886Z",
     "iopub.status.busy": "2023-02-03T03:16:09.722490Z",
     "iopub.status.idle": "2023-02-03T03:16:09.733572Z",
     "shell.execute_reply": "2023-02-03T03:16:09.732208Z"
    },
    "papermill": {
     "duration": 0.022426,
     "end_time": "2023-02-03T03:16:09.736503",
     "exception": false,
     "start_time": "2023-02-03T03:16:09.714077",
     "status": "completed"
    },
    "tags": []
   },
   "outputs": [
    {
     "data": {
      "text/plain": [
       "0        One reviewers mentioned watching 1 Oz episode ...\n",
       "1        wonderful little production. filming technique...\n",
       "2        thought wonderful way spend time hot summer we...\n",
       "3        Basically ' family little boy ( Jake ) thinks ...\n",
       "4        Petter Mattei ' \" Love Time Money \" visually s...\n",
       "                               ...                        \n",
       "49995    thought movie right good job. ' creative origi...\n",
       "49996    Bad plot , bad dialogue , bad acting , idiotic...\n",
       "49997    Catholic taught parochial elementary schools n...\n",
       "49998    ' going disagree previous comment side Maltin ...\n",
       "49999    one expects Star Trek movies high art , fans e...\n",
       "Name: review, Length: 50000, dtype: object"
      ]
     },
     "execution_count": 9,
     "metadata": {},
     "output_type": "execute_result"
    }
   ],
   "source": [
    "df[\"review\"]"
   ]
  },
  {
   "cell_type": "code",
   "execution_count": 10,
   "id": "3e78cab1",
   "metadata": {
    "execution": {
     "iopub.execute_input": "2023-02-03T03:16:09.752633Z",
     "iopub.status.busy": "2023-02-03T03:16:09.752230Z",
     "iopub.status.idle": "2023-02-03T03:19:00.897675Z",
     "shell.execute_reply": "2023-02-03T03:19:00.896232Z"
    },
    "papermill": {
     "duration": 171.157445,
     "end_time": "2023-02-03T03:19:00.901090",
     "exception": false,
     "start_time": "2023-02-03T03:16:09.743645",
     "status": "completed"
    },
    "tags": []
   },
   "outputs": [],
   "source": [
    "def stemmer(text):\n",
    "    stemmer = PorterStemmer()\n",
    "    doc_stemmed = [stemmer.stem(w) for w in text.split()]\n",
    "    return doc_stemmed\n",
    "\n",
    "df[\"review\"] = df[\"review\"].apply(stemmer)"
   ]
  },
  {
   "cell_type": "markdown",
   "id": "08eccef9",
   "metadata": {
    "execution": {
     "iopub.execute_input": "2023-02-03T02:30:03.851598Z",
     "iopub.status.busy": "2023-02-03T02:30:03.851181Z",
     "iopub.status.idle": "2023-02-03T02:30:03.856604Z",
     "shell.execute_reply": "2023-02-03T02:30:03.855410Z",
     "shell.execute_reply.started": "2023-02-03T02:30:03.851563Z"
    },
    "papermill": {
     "duration": 0.00681,
     "end_time": "2023-02-03T03:19:00.915329",
     "exception": false,
     "start_time": "2023-02-03T03:19:00.908519",
     "status": "completed"
    },
    "tags": []
   },
   "source": [
    "#### creating bags of words model"
   ]
  },
  {
   "cell_type": "code",
   "execution_count": 11,
   "id": "8b0e6e5b",
   "metadata": {
    "execution": {
     "iopub.execute_input": "2023-02-03T03:19:00.932304Z",
     "iopub.status.busy": "2023-02-03T03:19:00.931836Z",
     "iopub.status.idle": "2023-02-03T03:20:24.148136Z",
     "shell.execute_reply": "2023-02-03T03:20:24.146489Z"
    },
    "papermill": {
     "duration": 83.235234,
     "end_time": "2023-02-03T03:20:24.157899",
     "exception": false,
     "start_time": "2023-02-03T03:19:00.922665",
     "status": "completed"
    },
    "tags": []
   },
   "outputs": [
    {
     "name": "stdout",
     "output_type": "stream",
     "text": [
      "BOW_cv_train: (40000, 6193147)\n",
      "BOW_cv_test: (10000, 6193147)\n"
     ]
    }
   ],
   "source": [
    "#Count vectorizer for bag of words\n",
    "cv=CountVectorizer(min_df=0,max_df=1,binary=False,ngram_range=(1,3))\n",
    "#transformed train reviews\n",
    "cv_train_reviews=cv.fit_transform(train_reviews)\n",
    "#transformed test reviews\n",
    "cv_test_reviews=cv.transform(test_reviews)\n",
    "\n",
    "print('BOW_cv_train:',cv_train_reviews.shape)\n",
    "print('BOW_cv_test:',cv_test_reviews.shape)\n"
   ]
  },
  {
   "cell_type": "markdown",
   "id": "2eca2456",
   "metadata": {
    "execution": {
     "iopub.execute_input": "2023-02-03T02:35:04.378743Z",
     "iopub.status.busy": "2023-02-03T02:35:04.378289Z",
     "iopub.status.idle": "2023-02-03T02:35:04.382999Z",
     "shell.execute_reply": "2023-02-03T02:35:04.381984Z",
     "shell.execute_reply.started": "2023-02-03T02:35:04.378700Z"
    },
    "papermill": {
     "duration": 0.006657,
     "end_time": "2023-02-03T03:20:24.171858",
     "exception": false,
     "start_time": "2023-02-03T03:20:24.165201",
     "status": "completed"
    },
    "tags": []
   },
   "source": [
    "#### creating TFIDF matrix"
   ]
  },
  {
   "cell_type": "code",
   "execution_count": 12,
   "id": "da8e9a49",
   "metadata": {
    "execution": {
     "iopub.execute_input": "2023-02-03T03:20:24.187570Z",
     "iopub.status.busy": "2023-02-03T03:20:24.187156Z",
     "iopub.status.idle": "2023-02-03T03:21:50.532372Z",
     "shell.execute_reply": "2023-02-03T03:21:50.530872Z"
    },
    "papermill": {
     "duration": 86.364345,
     "end_time": "2023-02-03T03:21:50.543056",
     "exception": false,
     "start_time": "2023-02-03T03:20:24.178711",
     "status": "completed"
    },
    "tags": []
   },
   "outputs": [
    {
     "name": "stdout",
     "output_type": "stream",
     "text": [
      "Tfidf_train: (40000, 6193147)\n",
      "Tfidf_test: (10000, 6193147)\n"
     ]
    }
   ],
   "source": [
    "#Tfidf vectorizer\n",
    "tv=TfidfVectorizer(min_df=0,max_df=1,use_idf=True,ngram_range=(1,3))\n",
    "#transformed train reviews\n",
    "tv_train_reviews=tv.fit_transform(train_reviews)\n",
    "#transformed test reviews\n",
    "tv_test_reviews=tv.transform(test_reviews)\n",
    "print('Tfidf_train:',tv_train_reviews.shape)\n",
    "print('Tfidf_test:',tv_test_reviews.shape)"
   ]
  },
  {
   "cell_type": "markdown",
   "id": "3a6c14f1",
   "metadata": {
    "papermill": {
     "duration": 0.006838,
     "end_time": "2023-02-03T03:21:50.557640",
     "exception": false,
     "start_time": "2023-02-03T03:21:50.550802",
     "status": "completed"
    },
    "tags": []
   },
   "source": [
    "#### building logistic regression model"
   ]
  },
  {
   "cell_type": "code",
   "execution_count": 13,
   "id": "59356e8c",
   "metadata": {
    "execution": {
     "iopub.execute_input": "2023-02-03T03:21:50.574520Z",
     "iopub.status.busy": "2023-02-03T03:21:50.574047Z",
     "iopub.status.idle": "2023-02-03T03:23:54.741119Z",
     "shell.execute_reply": "2023-02-03T03:23:54.739802Z"
    },
    "papermill": {
     "duration": 124.179127,
     "end_time": "2023-02-03T03:23:54.744325",
     "exception": false,
     "start_time": "2023-02-03T03:21:50.565198",
     "status": "completed"
    },
    "tags": []
   },
   "outputs": [],
   "source": [
    "#training the model\n",
    "lr=LogisticRegression(penalty='l2',max_iter=500,C=1,random_state=42)\n",
    "#Fitting the model for Bag of words\n",
    "lr_bow=lr.fit(cv_train_reviews,train_sentis)\n",
    "\n",
    "#Fitting the model for tfidf features\n",
    "lr_tfidf=lr.fit(tv_train_reviews,train_sentis)"
   ]
  },
  {
   "cell_type": "code",
   "execution_count": 14,
   "id": "6dc8bfe3",
   "metadata": {
    "execution": {
     "iopub.execute_input": "2023-02-03T03:23:54.761163Z",
     "iopub.status.busy": "2023-02-03T03:23:54.760704Z",
     "iopub.status.idle": "2023-02-03T03:23:54.777928Z",
     "shell.execute_reply": "2023-02-03T03:23:54.776723Z"
    },
    "papermill": {
     "duration": 0.028483,
     "end_time": "2023-02-03T03:23:54.780344",
     "exception": false,
     "start_time": "2023-02-03T03:23:54.751861",
     "status": "completed"
    },
    "tags": []
   },
   "outputs": [
    {
     "name": "stdout",
     "output_type": "stream",
     "text": [
      "[0 1 0 ... 1 0 0]\n",
      "[0 1 0 ... 1 0 0]\n"
     ]
    }
   ],
   "source": [
    "#Predicting the model for bag of words\n",
    "lr_bow_predict=lr.predict(cv_test_reviews)\n",
    "print(lr_bow_predict)\n",
    "##Predicting the model for tfidf features\n",
    "lr_tfidf_predict=lr.predict(tv_test_reviews)\n",
    "print(lr_tfidf_predict)"
   ]
  },
  {
   "cell_type": "markdown",
   "id": "711f27d3",
   "metadata": {
    "papermill": {
     "duration": 0.006489,
     "end_time": "2023-02-03T03:23:54.793712",
     "exception": false,
     "start_time": "2023-02-03T03:23:54.787223",
     "status": "completed"
    },
    "tags": []
   },
   "source": [
    "#### evaluating the model"
   ]
  },
  {
   "cell_type": "code",
   "execution_count": 15,
   "id": "46bd98a5",
   "metadata": {
    "execution": {
     "iopub.execute_input": "2023-02-03T03:23:54.810177Z",
     "iopub.status.busy": "2023-02-03T03:23:54.809533Z",
     "iopub.status.idle": "2023-02-03T03:23:54.863941Z",
     "shell.execute_reply": "2023-02-03T03:23:54.861556Z"
    },
    "papermill": {
     "duration": 0.067167,
     "end_time": "2023-02-03T03:23:54.868003",
     "exception": false,
     "start_time": "2023-02-03T03:23:54.800836",
     "status": "completed"
    },
    "tags": []
   },
   "outputs": [
    {
     "name": "stdout",
     "output_type": "stream",
     "text": [
      "              precision    recall  f1-score   support\n",
      "\n",
      "    Positive       0.77      0.76      0.77      5013\n",
      "    Negative       0.77      0.77      0.77      4987\n",
      "\n",
      "    accuracy                           0.77     10000\n",
      "   macro avg       0.77      0.77      0.77     10000\n",
      "weighted avg       0.77      0.77      0.77     10000\n",
      "\n",
      "              precision    recall  f1-score   support\n",
      "\n",
      "    Positive       0.77      0.77      0.77      5013\n",
      "    Negative       0.77      0.77      0.77      4987\n",
      "\n",
      "    accuracy                           0.77     10000\n",
      "   macro avg       0.77      0.77      0.77     10000\n",
      "weighted avg       0.77      0.77      0.77     10000\n",
      "\n"
     ]
    }
   ],
   "source": [
    "#Classification report for bag of words \n",
    "lr_bow_report=classification_report(test_sentis,lr_bow_predict,target_names=['Positive','Negative'])\n",
    "print(lr_bow_report)\n",
    "\n",
    "#Classification report for tfidf features\n",
    "lr_tfidf_report=classification_report(test_sentis,lr_tfidf_predict,target_names=['Positive','Negative'])\n",
    "print(lr_tfidf_report)"
   ]
  }
 ],
 "metadata": {
  "kernelspec": {
   "display_name": "Python 3",
   "language": "python",
   "name": "python3"
  },
  "language_info": {
   "codemirror_mode": {
    "name": "ipython",
    "version": 3
   },
   "file_extension": ".py",
   "mimetype": "text/x-python",
   "name": "python",
   "nbconvert_exporter": "python",
   "pygments_lexer": "ipython3",
   "version": "3.7.12"
  },
  "papermill": {
   "default_parameters": {},
   "duration": 542.905777,
   "end_time": "2023-02-03T03:23:57.598754",
   "environment_variables": {},
   "exception": null,
   "input_path": "__notebook__.ipynb",
   "output_path": "__notebook__.ipynb",
   "parameters": {},
   "start_time": "2023-02-03T03:14:54.692977",
   "version": "2.3.4"
  }
 },
 "nbformat": 4,
 "nbformat_minor": 5
}
