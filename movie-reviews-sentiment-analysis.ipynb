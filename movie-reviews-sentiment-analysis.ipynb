{
 "cells": [
  {
   "cell_type": "code",
   "execution_count": 1,
   "id": "4192b33c",
   "metadata": {
    "execution": {
     "iopub.execute_input": "2023-02-02T15:01:56.686553Z",
     "iopub.status.busy": "2023-02-02T15:01:56.685676Z",
     "iopub.status.idle": "2023-02-02T15:01:58.705053Z",
     "shell.execute_reply": "2023-02-02T15:01:58.703592Z"
    },
    "papermill": {
     "duration": 2.030635,
     "end_time": "2023-02-02T15:01:58.708448",
     "exception": false,
     "start_time": "2023-02-02T15:01:56.677813",
     "status": "completed"
    },
    "tags": []
   },
   "outputs": [],
   "source": [
    "import numpy as np \n",
    "import pandas as pd\n",
    "import re \n",
    "import nltk\n",
    "from nltk.corpus import stopwords\n",
    "from nltk.tokenize.toktok import ToktokTokenizer\n",
    "from nltk.stem.porter import *\n",
    "from nltk.stem import SnowballStemmer\n",
    "from sklearn.feature_extraction.text import CountVectorizer\n",
    "from bs4 import BeautifulSoup\n",
    "from sklearn.model_selection import train_test_split\n",
    "from sklearn.naive_bayes import GaussianNB,MultinomialNB,BernoulliNB\n",
    "from sklearn.metrics import accuracy_score\n",
    "import pickle"
   ]
  },
  {
   "cell_type": "code",
   "execution_count": 2,
   "id": "143e1c81",
   "metadata": {
    "execution": {
     "iopub.execute_input": "2023-02-02T15:01:58.719249Z",
     "iopub.status.busy": "2023-02-02T15:01:58.718467Z",
     "iopub.status.idle": "2023-02-02T15:02:00.456908Z",
     "shell.execute_reply": "2023-02-02T15:02:00.455519Z"
    },
    "papermill": {
     "duration": 1.747359,
     "end_time": "2023-02-02T15:02:00.460225",
     "exception": false,
     "start_time": "2023-02-02T15:01:58.712866",
     "status": "completed"
    },
    "tags": []
   },
   "outputs": [],
   "source": [
    "df = pd.read_csv(\"/kaggle/input/imdb-dataset/IMDB Dataset.csv\")"
   ]
  },
  {
   "cell_type": "code",
   "execution_count": 3,
   "id": "b5ee8c94",
   "metadata": {
    "execution": {
     "iopub.execute_input": "2023-02-02T15:02:00.470685Z",
     "iopub.status.busy": "2023-02-02T15:02:00.470191Z",
     "iopub.status.idle": "2023-02-02T15:02:00.492173Z",
     "shell.execute_reply": "2023-02-02T15:02:00.491073Z"
    },
    "papermill": {
     "duration": 0.032428,
     "end_time": "2023-02-02T15:02:00.496930",
     "exception": false,
     "start_time": "2023-02-02T15:02:00.464502",
     "status": "completed"
    },
    "tags": []
   },
   "outputs": [
    {
     "data": {
      "text/html": [
       "<div>\n",
       "<style scoped>\n",
       "    .dataframe tbody tr th:only-of-type {\n",
       "        vertical-align: middle;\n",
       "    }\n",
       "\n",
       "    .dataframe tbody tr th {\n",
       "        vertical-align: top;\n",
       "    }\n",
       "\n",
       "    .dataframe thead th {\n",
       "        text-align: right;\n",
       "    }\n",
       "</style>\n",
       "<table border=\"1\" class=\"dataframe\">\n",
       "  <thead>\n",
       "    <tr style=\"text-align: right;\">\n",
       "      <th></th>\n",
       "      <th>review</th>\n",
       "      <th>sentiment</th>\n",
       "    </tr>\n",
       "  </thead>\n",
       "  <tbody>\n",
       "    <tr>\n",
       "      <th>0</th>\n",
       "      <td>One of the other reviewers has mentioned that ...</td>\n",
       "      <td>positive</td>\n",
       "    </tr>\n",
       "    <tr>\n",
       "      <th>1</th>\n",
       "      <td>A wonderful little production. &lt;br /&gt;&lt;br /&gt;The...</td>\n",
       "      <td>positive</td>\n",
       "    </tr>\n",
       "    <tr>\n",
       "      <th>2</th>\n",
       "      <td>I thought this was a wonderful way to spend ti...</td>\n",
       "      <td>positive</td>\n",
       "    </tr>\n",
       "  </tbody>\n",
       "</table>\n",
       "</div>"
      ],
      "text/plain": [
       "                                              review sentiment\n",
       "0  One of the other reviewers has mentioned that ...  positive\n",
       "1  A wonderful little production. <br /><br />The...  positive\n",
       "2  I thought this was a wonderful way to spend ti...  positive"
      ]
     },
     "execution_count": 3,
     "metadata": {},
     "output_type": "execute_result"
    }
   ],
   "source": [
    "df.head(3)"
   ]
  },
  {
   "cell_type": "markdown",
   "id": "e1110286",
   "metadata": {
    "papermill": {
     "duration": 0.003918,
     "end_time": "2023-02-02T15:02:00.505400",
     "exception": false,
     "start_time": "2023-02-02T15:02:00.501482",
     "status": "completed"
    },
    "tags": []
   },
   "source": [
    "#### seeing if dataset is balanced"
   ]
  },
  {
   "cell_type": "code",
   "execution_count": 4,
   "id": "ea053491",
   "metadata": {
    "execution": {
     "iopub.execute_input": "2023-02-02T15:02:00.516230Z",
     "iopub.status.busy": "2023-02-02T15:02:00.515295Z",
     "iopub.status.idle": "2023-02-02T15:02:00.554600Z",
     "shell.execute_reply": "2023-02-02T15:02:00.553646Z"
    },
    "papermill": {
     "duration": 0.047326,
     "end_time": "2023-02-02T15:02:00.556905",
     "exception": false,
     "start_time": "2023-02-02T15:02:00.509579",
     "status": "completed"
    },
    "tags": []
   },
   "outputs": [
    {
     "data": {
      "text/html": [
       "<div>\n",
       "<style scoped>\n",
       "    .dataframe tbody tr th:only-of-type {\n",
       "        vertical-align: middle;\n",
       "    }\n",
       "\n",
       "    .dataframe tbody tr th {\n",
       "        vertical-align: top;\n",
       "    }\n",
       "\n",
       "    .dataframe thead th {\n",
       "        text-align: right;\n",
       "    }\n",
       "</style>\n",
       "<table border=\"1\" class=\"dataframe\">\n",
       "  <thead>\n",
       "    <tr style=\"text-align: right;\">\n",
       "      <th></th>\n",
       "      <th>review</th>\n",
       "    </tr>\n",
       "    <tr>\n",
       "      <th>sentiment</th>\n",
       "      <th></th>\n",
       "    </tr>\n",
       "  </thead>\n",
       "  <tbody>\n",
       "    <tr>\n",
       "      <th>negative</th>\n",
       "      <td>25000</td>\n",
       "    </tr>\n",
       "    <tr>\n",
       "      <th>positive</th>\n",
       "      <td>25000</td>\n",
       "    </tr>\n",
       "  </tbody>\n",
       "</table>\n",
       "</div>"
      ],
      "text/plain": [
       "           review\n",
       "sentiment        \n",
       "negative    25000\n",
       "positive    25000"
      ]
     },
     "execution_count": 4,
     "metadata": {},
     "output_type": "execute_result"
    }
   ],
   "source": [
    "df.groupby(\"sentiment\").count()"
   ]
  },
  {
   "cell_type": "markdown",
   "id": "f4931573",
   "metadata": {
    "papermill": {
     "duration": 0.00421,
     "end_time": "2023-02-02T15:02:00.565777",
     "exception": false,
     "start_time": "2023-02-02T15:02:00.561567",
     "status": "completed"
    },
    "tags": []
   },
   "source": [
    "#### encoding sentiment values"
   ]
  },
  {
   "cell_type": "code",
   "execution_count": 5,
   "id": "cd4376fb",
   "metadata": {
    "execution": {
     "iopub.execute_input": "2023-02-02T15:02:00.577434Z",
     "iopub.status.busy": "2023-02-02T15:02:00.576172Z",
     "iopub.status.idle": "2023-02-02T15:02:00.610132Z",
     "shell.execute_reply": "2023-02-02T15:02:00.608821Z"
    },
    "papermill": {
     "duration": 0.042627,
     "end_time": "2023-02-02T15:02:00.612807",
     "exception": false,
     "start_time": "2023-02-02T15:02:00.570180",
     "status": "completed"
    },
    "tags": []
   },
   "outputs": [
    {
     "data": {
      "text/html": [
       "<div>\n",
       "<style scoped>\n",
       "    .dataframe tbody tr th:only-of-type {\n",
       "        vertical-align: middle;\n",
       "    }\n",
       "\n",
       "    .dataframe tbody tr th {\n",
       "        vertical-align: top;\n",
       "    }\n",
       "\n",
       "    .dataframe thead th {\n",
       "        text-align: right;\n",
       "    }\n",
       "</style>\n",
       "<table border=\"1\" class=\"dataframe\">\n",
       "  <thead>\n",
       "    <tr style=\"text-align: right;\">\n",
       "      <th></th>\n",
       "      <th>review</th>\n",
       "      <th>sentiment</th>\n",
       "      <th>sentiment_encoding</th>\n",
       "    </tr>\n",
       "  </thead>\n",
       "  <tbody>\n",
       "    <tr>\n",
       "      <th>0</th>\n",
       "      <td>One of the other reviewers has mentioned that ...</td>\n",
       "      <td>positive</td>\n",
       "      <td>1</td>\n",
       "    </tr>\n",
       "    <tr>\n",
       "      <th>1</th>\n",
       "      <td>A wonderful little production. &lt;br /&gt;&lt;br /&gt;The...</td>\n",
       "      <td>positive</td>\n",
       "      <td>1</td>\n",
       "    </tr>\n",
       "    <tr>\n",
       "      <th>2</th>\n",
       "      <td>I thought this was a wonderful way to spend ti...</td>\n",
       "      <td>positive</td>\n",
       "      <td>1</td>\n",
       "    </tr>\n",
       "  </tbody>\n",
       "</table>\n",
       "</div>"
      ],
      "text/plain": [
       "                                              review sentiment  \\\n",
       "0  One of the other reviewers has mentioned that ...  positive   \n",
       "1  A wonderful little production. <br /><br />The...  positive   \n",
       "2  I thought this was a wonderful way to spend ti...  positive   \n",
       "\n",
       "   sentiment_encoding  \n",
       "0                   1  \n",
       "1                   1  \n",
       "2                   1  "
      ]
     },
     "execution_count": 5,
     "metadata": {},
     "output_type": "execute_result"
    }
   ],
   "source": [
    "df[\"sentiment_encoding\"] = df[\"sentiment\"].apply(lambda x: 1 if \"positive\" else 0)\n",
    "df.head(3)"
   ]
  },
  {
   "cell_type": "markdown",
   "id": "ed1521fa",
   "metadata": {
    "papermill": {
     "duration": 0.004426,
     "end_time": "2023-02-02T15:02:00.622164",
     "exception": false,
     "start_time": "2023-02-02T15:02:00.617738",
     "status": "completed"
    },
    "tags": []
   },
   "source": [
    "#### splitting dataset"
   ]
  },
  {
   "cell_type": "code",
   "execution_count": 6,
   "id": "173d8f05",
   "metadata": {
    "execution": {
     "iopub.execute_input": "2023-02-02T15:02:00.634084Z",
     "iopub.status.busy": "2023-02-02T15:02:00.633213Z",
     "iopub.status.idle": "2023-02-02T15:02:00.664963Z",
     "shell.execute_reply": "2023-02-02T15:02:00.663108Z"
    },
    "papermill": {
     "duration": 0.042233,
     "end_time": "2023-02-02T15:02:00.669175",
     "exception": false,
     "start_time": "2023-02-02T15:02:00.626942",
     "status": "completed"
    },
    "tags": []
   },
   "outputs": [
    {
     "name": "stdout",
     "output_type": "stream",
     "text": [
      "(40000,) (40000,)\n",
      "(10000,) (10000,)\n"
     ]
    }
   ],
   "source": [
    "train_dataset = df.sample(frac=0.8,random_state=0)\n",
    "test_dataset = df.drop(train_dataset.index)\n",
    "\n",
    "train_reviews = train_dataset.review\n",
    "train_sentis = train_dataset.sentiment\n",
    "\n",
    "test_reviews = test_dataset.review\n",
    "test_sentis = test_dataset.sentiment\n",
    "\n",
    "print(train_reviews.shape, train_sentis.shape)\n",
    "print(test_reviews.shape, test_sentis.shape)"
   ]
  },
  {
   "cell_type": "markdown",
   "id": "0640a1c2",
   "metadata": {
    "execution": {
     "iopub.execute_input": "2023-02-02T13:52:47.032155Z",
     "iopub.status.busy": "2023-02-02T13:52:47.031733Z",
     "iopub.status.idle": "2023-02-02T13:52:47.037876Z",
     "shell.execute_reply": "2023-02-02T13:52:47.036547Z",
     "shell.execute_reply.started": "2023-02-02T13:52:47.032118Z"
    },
    "papermill": {
     "duration": 0.004466,
     "end_time": "2023-02-02T15:02:00.678841",
     "exception": false,
     "start_time": "2023-02-02T15:02:00.674375",
     "status": "completed"
    },
    "tags": []
   },
   "source": [
    "#### text preprocessing"
   ]
  },
  {
   "cell_type": "code",
   "execution_count": 7,
   "id": "5ad8dc04",
   "metadata": {
    "execution": {
     "iopub.execute_input": "2023-02-02T15:02:00.691510Z",
     "iopub.status.busy": "2023-02-02T15:02:00.690299Z",
     "iopub.status.idle": "2023-02-02T15:02:11.842928Z",
     "shell.execute_reply": "2023-02-02T15:02:11.841404Z"
    },
    "papermill": {
     "duration": 11.162543,
     "end_time": "2023-02-02T15:02:11.846186",
     "exception": false,
     "start_time": "2023-02-02T15:02:00.683643",
     "status": "completed"
    },
    "tags": []
   },
   "outputs": [
    {
     "name": "stderr",
     "output_type": "stream",
     "text": [
      "/opt/conda/lib/python3.7/site-packages/bs4/__init__.py:439: MarkupResemblesLocatorWarning: The input looks more like a filename than markup. You may want to open this file and pass the filehandle into Beautiful Soup.\n",
      "  MarkupResemblesLocatorWarning\n"
     ]
    }
   ],
   "source": [
    "tokenizer = ToktokTokenizer()\n",
    "\n",
    "# remove html strips\n",
    "def strip_html(text):\n",
    "    soup = BeautifulSoup(text, \"html.parser\")\n",
    "    return soup.get_text()\n",
    "\n",
    "# keep only alphabetic words\n",
    "def alpha_text(text):\n",
    "    return re.sub('^[a-z]+$', '', text)\n",
    "\n",
    "def clean_words(text):\n",
    "    text = alpha_text(strip_html(text))\n",
    "    return text\n",
    "\n",
    "df[\"review\"] = df[\"review\"].apply(clean_words)"
   ]
  },
  {
   "cell_type": "markdown",
   "id": "35c46a03",
   "metadata": {
    "papermill": {
     "duration": 0.004588,
     "end_time": "2023-02-02T15:02:11.855947",
     "exception": false,
     "start_time": "2023-02-02T15:02:11.851359",
     "status": "completed"
    },
    "tags": []
   },
   "source": [
    "### removing stopwords, stemming"
   ]
  },
  {
   "cell_type": "code",
   "execution_count": 8,
   "id": "26e1ea05",
   "metadata": {
    "execution": {
     "iopub.execute_input": "2023-02-02T15:02:11.868060Z",
     "iopub.status.busy": "2023-02-02T15:02:11.867541Z",
     "iopub.status.idle": "2023-02-02T15:03:03.126750Z",
     "shell.execute_reply": "2023-02-02T15:03:03.125636Z"
    },
    "papermill": {
     "duration": 51.269005,
     "end_time": "2023-02-02T15:03:03.129759",
     "exception": false,
     "start_time": "2023-02-02T15:02:11.860754",
     "status": "completed"
    },
    "tags": []
   },
   "outputs": [],
   "source": [
    "stop_list = stopwords.words(\"english\")\n",
    "\n",
    "def remove_stopwords(text, is_lower_case=False):\n",
    "    tokens = tokenizer.tokenize(text)\n",
    "    tokens = [token.strip() for token in tokens]\n",
    "    if is_lower_case:\n",
    "        filtered_tokens = [token for token in tokens if token not in stop_list]\n",
    "    else:\n",
    "        filtered_tokens = [token for token in tokens if token.lower() not in stop_list]\n",
    "    filtered_text = ' '.join(filtered_tokens)    \n",
    "    return filtered_text\n",
    "\n",
    "df[\"review\"] = df[\"review\"].apply(remove_stopwords)"
   ]
  },
  {
   "cell_type": "code",
   "execution_count": 9,
   "id": "a838b917",
   "metadata": {
    "execution": {
     "iopub.execute_input": "2023-02-02T15:03:03.142775Z",
     "iopub.status.busy": "2023-02-02T15:03:03.141968Z",
     "iopub.status.idle": "2023-02-02T15:05:53.427668Z",
     "shell.execute_reply": "2023-02-02T15:05:53.426385Z"
    },
    "papermill": {
     "duration": 170.296111,
     "end_time": "2023-02-02T15:05:53.431201",
     "exception": false,
     "start_time": "2023-02-02T15:03:03.135090",
     "status": "completed"
    },
    "tags": []
   },
   "outputs": [],
   "source": [
    "def stemmer(text):\n",
    "    stemmer = PorterStemmer()\n",
    "    doc_stemmed = [stemmer.stem(w) for w in text.split()]\n",
    "\n",
    "df[\"review\"] = df[\"review\"].apply(stemmer)"
   ]
  }
 ],
 "metadata": {
  "kernelspec": {
   "display_name": "Python 3",
   "language": "python",
   "name": "python3"
  },
  "language_info": {
   "codemirror_mode": {
    "name": "ipython",
    "version": 3
   },
   "file_extension": ".py",
   "mimetype": "text/x-python",
   "name": "python",
   "nbconvert_exporter": "python",
   "pygments_lexer": "ipython3",
   "version": "3.7.12"
  },
  "papermill": {
   "default_parameters": {},
   "duration": 247.425743,
   "end_time": "2023-02-02T15:05:54.666194",
   "environment_variables": {},
   "exception": null,
   "input_path": "__notebook__.ipynb",
   "output_path": "__notebook__.ipynb",
   "parameters": {},
   "start_time": "2023-02-02T15:01:47.240451",
   "version": "2.3.4"
  }
 },
 "nbformat": 4,
 "nbformat_minor": 5
}
